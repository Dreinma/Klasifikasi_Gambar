{
  "cells": [
    {
      "cell_type": "markdown",
      "metadata": {
        "id": "H9wADwK78DCz"
      },
      "source": [
        "# Proyek Klasifikasi Gambar: 10 Jenis Hewan (Dataset Animals-10)\n",
        "\n",
        "- Nama: Bimoseno Kuma\n",
        "- Email: kuma24@student.ub.ac.id\n",
        "- ID Dicoding: kukuma"
      ]
    },
    {
      "cell_type": "markdown",
      "metadata": {
        "id": "H-z4QGlO8DC1"
      },
      "source": [
        "## Import Semua Packages/Library yang Digunakan"
      ]
    },
    {
      "cell_type": "code",
      "execution_count": 1,
      "metadata": {
        "colab": {
          "base_uri": "https://localhost:8080/"
        },
        "id": "FVYwaObI8DC1",
        "outputId": "f18ac4ce-c3ea-47d1-9c0e-207ad0f4a6d4"
      },
      "outputs": [
        {
          "name": "stdout",
          "output_type": "stream",
          "text": [
            "\u001b[?25l   \u001b[90m━━━━━━━━━━━━━━━━━━━━━━━━━━━━━━━━━━━━━━━━\u001b[0m \u001b[32m0.0/89.1 kB\u001b[0m \u001b[31m?\u001b[0m eta \u001b[36m-:--:--\u001b[0m\r\u001b[2K   \u001b[90m━━━━━━━━━━━━━━━━━━━━━━━━━━━━━━━━━━━━━━━━\u001b[0m \u001b[32m89.1/89.1 kB\u001b[0m \u001b[31m5.2 MB/s\u001b[0m eta \u001b[36m0:00:00\u001b[0m\n",
            "\u001b[?25h\u001b[?25l   \u001b[90m━━━━━━━━━━━━━━━━━━━━━━━━━━━━━━━━━━━━━━━━\u001b[0m \u001b[32m0.0/53.0 kB\u001b[0m \u001b[31m?\u001b[0m eta \u001b[36m-:--:--\u001b[0m\r\u001b[2K   \u001b[90m━━━━━━━━━━━━━━━━━━━━━━━━━━━━━━━━━━━━━━━━\u001b[0m \u001b[32m53.0/53.0 kB\u001b[0m \u001b[31m4.0 MB/s\u001b[0m eta \u001b[36m0:00:00\u001b[0m\n",
            "\u001b[?25h\u001b[31mERROR: pip's dependency resolver does not currently take into account all the packages that are installed. This behaviour is the source of the following dependency conflicts.\n",
            "google-cloud-bigquery 3.34.0 requires packaging>=24.2.0, but you have packaging 23.2 which is incompatible.\n",
            "db-dtypes 1.4.3 requires packaging>=24.2.0, but you have packaging 23.2 which is incompatible.\u001b[0m\u001b[31m\n",
            "\u001b[0mMounted at /content/drive\n"
          ]
        }
      ],
      "source": [
        "!pip install split-folders --quiet\n",
        "!pip install tensorflowjs --quiet\n",
        "from google.colab import files, drive\n",
        "import os\n",
        "import sys\n",
        "import shutil\n",
        "import zipfile\n",
        "import pathlib\n",
        "import numpy as np\n",
        "import tensorflow as tf\n",
        "import matplotlib.pyplot as plt\n",
        "import seaborn as sns\n",
        "from PIL import Image\n",
        "import random\n",
        "import subprocess\n",
        "from sklearn.metrics import classification_report, confusion_matrix\n",
        "from tensorflow.keras.models import Sequential\n",
        "from tensorflow.keras.layers import Conv2D, MaxPooling2D, Flatten, Dense, Dropout, BatchNormalization\n",
        "from tensorflow.keras.preprocessing.image import ImageDataGenerator\n",
        "from tensorflow.keras.preprocessing import image\n",
        "from tensorflow.keras.callbacks import EarlyStopping, ModelCheckpoint, ReduceLROnPlateau\n",
        "from tensorflow.keras.optimizers import Adam\n",
        "from tensorflow.keras.applications import EfficientNetB0\n",
        "from tensorflow.keras.layers import Input, GlobalAveragePooling2D\n",
        "from tensorflow.keras.models import Model\n",
        "import splitfolders\n",
        "drive.mount('/content/drive')"
      ]
    },
    {
      "cell_type": "code",
      "execution_count": 2,
      "metadata": {
        "colab": {
          "base_uri": "https://localhost:8080/",
          "height": 124
        },
        "id": "ykSnED4434Qg",
        "outputId": "275784da-cb88-41b3-94b5-39a8e9ae081d"
      },
      "outputs": [
        {
          "name": "stdout",
          "output_type": "stream",
          "text": [
            "Silakan upload file kaggle.json Anda:\n"
          ]
        },
        {
          "data": {
            "text/html": [
              "\n",
              "     <input type=\"file\" id=\"files-f2bf8a21-14bf-4934-a85d-edc6f80791ca\" name=\"files[]\" multiple disabled\n",
              "        style=\"border:none\" />\n",
              "     <output id=\"result-f2bf8a21-14bf-4934-a85d-edc6f80791ca\">\n",
              "      Upload widget is only available when the cell has been executed in the\n",
              "      current browser session. Please rerun this cell to enable.\n",
              "      </output>\n",
              "      <script>// Copyright 2017 Google LLC\n",
              "//\n",
              "// Licensed under the Apache License, Version 2.0 (the \"License\");\n",
              "// you may not use this file except in compliance with the License.\n",
              "// You may obtain a copy of the License at\n",
              "//\n",
              "//      http://www.apache.org/licenses/LICENSE-2.0\n",
              "//\n",
              "// Unless required by applicable law or agreed to in writing, software\n",
              "// distributed under the License is distributed on an \"AS IS\" BASIS,\n",
              "// WITHOUT WARRANTIES OR CONDITIONS OF ANY KIND, either express or implied.\n",
              "// See the License for the specific language governing permissions and\n",
              "// limitations under the License.\n",
              "\n",
              "/**\n",
              " * @fileoverview Helpers for google.colab Python module.\n",
              " */\n",
              "(function(scope) {\n",
              "function span(text, styleAttributes = {}) {\n",
              "  const element = document.createElement('span');\n",
              "  element.textContent = text;\n",
              "  for (const key of Object.keys(styleAttributes)) {\n",
              "    element.style[key] = styleAttributes[key];\n",
              "  }\n",
              "  return element;\n",
              "}\n",
              "\n",
              "// Max number of bytes which will be uploaded at a time.\n",
              "const MAX_PAYLOAD_SIZE = 100 * 1024;\n",
              "\n",
              "function _uploadFiles(inputId, outputId) {\n",
              "  const steps = uploadFilesStep(inputId, outputId);\n",
              "  const outputElement = document.getElementById(outputId);\n",
              "  // Cache steps on the outputElement to make it available for the next call\n",
              "  // to uploadFilesContinue from Python.\n",
              "  outputElement.steps = steps;\n",
              "\n",
              "  return _uploadFilesContinue(outputId);\n",
              "}\n",
              "\n",
              "// This is roughly an async generator (not supported in the browser yet),\n",
              "// where there are multiple asynchronous steps and the Python side is going\n",
              "// to poll for completion of each step.\n",
              "// This uses a Promise to block the python side on completion of each step,\n",
              "// then passes the result of the previous step as the input to the next step.\n",
              "function _uploadFilesContinue(outputId) {\n",
              "  const outputElement = document.getElementById(outputId);\n",
              "  const steps = outputElement.steps;\n",
              "\n",
              "  const next = steps.next(outputElement.lastPromiseValue);\n",
              "  return Promise.resolve(next.value.promise).then((value) => {\n",
              "    // Cache the last promise value to make it available to the next\n",
              "    // step of the generator.\n",
              "    outputElement.lastPromiseValue = value;\n",
              "    return next.value.response;\n",
              "  });\n",
              "}\n",
              "\n",
              "/**\n",
              " * Generator function which is called between each async step of the upload\n",
              " * process.\n",
              " * @param {string} inputId Element ID of the input file picker element.\n",
              " * @param {string} outputId Element ID of the output display.\n",
              " * @return {!Iterable<!Object>} Iterable of next steps.\n",
              " */\n",
              "function* uploadFilesStep(inputId, outputId) {\n",
              "  const inputElement = document.getElementById(inputId);\n",
              "  inputElement.disabled = false;\n",
              "\n",
              "  const outputElement = document.getElementById(outputId);\n",
              "  outputElement.innerHTML = '';\n",
              "\n",
              "  const pickedPromise = new Promise((resolve) => {\n",
              "    inputElement.addEventListener('change', (e) => {\n",
              "      resolve(e.target.files);\n",
              "    });\n",
              "  });\n",
              "\n",
              "  const cancel = document.createElement('button');\n",
              "  inputElement.parentElement.appendChild(cancel);\n",
              "  cancel.textContent = 'Cancel upload';\n",
              "  const cancelPromise = new Promise((resolve) => {\n",
              "    cancel.onclick = () => {\n",
              "      resolve(null);\n",
              "    };\n",
              "  });\n",
              "\n",
              "  // Wait for the user to pick the files.\n",
              "  const files = yield {\n",
              "    promise: Promise.race([pickedPromise, cancelPromise]),\n",
              "    response: {\n",
              "      action: 'starting',\n",
              "    }\n",
              "  };\n",
              "\n",
              "  cancel.remove();\n",
              "\n",
              "  // Disable the input element since further picks are not allowed.\n",
              "  inputElement.disabled = true;\n",
              "\n",
              "  if (!files) {\n",
              "    return {\n",
              "      response: {\n",
              "        action: 'complete',\n",
              "      }\n",
              "    };\n",
              "  }\n",
              "\n",
              "  for (const file of files) {\n",
              "    const li = document.createElement('li');\n",
              "    li.append(span(file.name, {fontWeight: 'bold'}));\n",
              "    li.append(span(\n",
              "        `(${file.type || 'n/a'}) - ${file.size} bytes, ` +\n",
              "        `last modified: ${\n",
              "            file.lastModifiedDate ? file.lastModifiedDate.toLocaleDateString() :\n",
              "                                    'n/a'} - `));\n",
              "    const percent = span('0% done');\n",
              "    li.appendChild(percent);\n",
              "\n",
              "    outputElement.appendChild(li);\n",
              "\n",
              "    const fileDataPromise = new Promise((resolve) => {\n",
              "      const reader = new FileReader();\n",
              "      reader.onload = (e) => {\n",
              "        resolve(e.target.result);\n",
              "      };\n",
              "      reader.readAsArrayBuffer(file);\n",
              "    });\n",
              "    // Wait for the data to be ready.\n",
              "    let fileData = yield {\n",
              "      promise: fileDataPromise,\n",
              "      response: {\n",
              "        action: 'continue',\n",
              "      }\n",
              "    };\n",
              "\n",
              "    // Use a chunked sending to avoid message size limits. See b/62115660.\n",
              "    let position = 0;\n",
              "    do {\n",
              "      const length = Math.min(fileData.byteLength - position, MAX_PAYLOAD_SIZE);\n",
              "      const chunk = new Uint8Array(fileData, position, length);\n",
              "      position += length;\n",
              "\n",
              "      const base64 = btoa(String.fromCharCode.apply(null, chunk));\n",
              "      yield {\n",
              "        response: {\n",
              "          action: 'append',\n",
              "          file: file.name,\n",
              "          data: base64,\n",
              "        },\n",
              "      };\n",
              "\n",
              "      let percentDone = fileData.byteLength === 0 ?\n",
              "          100 :\n",
              "          Math.round((position / fileData.byteLength) * 100);\n",
              "      percent.textContent = `${percentDone}% done`;\n",
              "\n",
              "    } while (position < fileData.byteLength);\n",
              "  }\n",
              "\n",
              "  // All done.\n",
              "  yield {\n",
              "    response: {\n",
              "      action: 'complete',\n",
              "    }\n",
              "  };\n",
              "}\n",
              "\n",
              "scope.google = scope.google || {};\n",
              "scope.google.colab = scope.google.colab || {};\n",
              "scope.google.colab._files = {\n",
              "  _uploadFiles,\n",
              "  _uploadFilesContinue,\n",
              "};\n",
              "})(self);\n",
              "</script> "
            ],
            "text/plain": [
              "<IPython.core.display.HTML object>"
            ]
          },
          "metadata": {},
          "output_type": "display_data"
        },
        {
          "name": "stdout",
          "output_type": "stream",
          "text": [
            "Saving kaggle.json to kaggle.json\n",
            "\n",
            "File kaggle.json berhasil dikonfigurasi.\n"
          ]
        }
      ],
      "source": [
        "print(\"Silakan upload file kaggle.json Anda:\")\n",
        "files.upload()\n",
        "\n",
        "# Membuat direktori .kaggle dan memindahkan file kaggle.json ke sana\n",
        "!mkdir -p /root/.kaggle\n",
        "!mv kaggle.json /root/.kaggle/\n",
        "!chmod 600 /root/.kaggle/kaggle.json\n",
        "\n",
        "print(\"\\nFile kaggle.json berhasil dikonfigurasi.\")"
      ]
    },
    {
      "cell_type": "markdown",
      "metadata": {
        "id": "HHekw29KX4XQ"
      },
      "source": [
        "### Data Loading"
      ]
    },
    {
      "cell_type": "code",
      "execution_count": 3,
      "metadata": {
        "colab": {
          "base_uri": "https://localhost:8080/"
        },
        "id": "wIcv1F9fX4XQ",
        "outputId": "77b28364-54b6-45cd-99f6-43f240a1a27c"
      },
      "outputs": [
        {
          "name": "stdout",
          "output_type": "stream",
          "text": [
            "Dataset belum ada. Memulai proses unduh dari Kaggle...\n",
            "Dataset URL: https://www.kaggle.com/datasets/alessiocorrado99/animals10\n",
            "License(s): GPL-2.0\n",
            "Downloading animals10.zip to /content\n",
            " 98% 574M/586M [00:06<00:00, 171MB/s]\n",
            "100% 586M/586M [00:06<00:00, 90.6MB/s]\n",
            "\n",
            "Dataset berhasil diunduh dan diekstrak.\n",
            "\n",
            "Isi direktori kerja saat ini (/content/):\n",
            "total 16K\n",
            "drwx------  5 root root 4.0K Jun 27 05:11 drive\n",
            "drwxr-xr-x 12 root root 4.0K Jun 27 05:12 raw-img\n",
            "drwxr-xr-x  1 root root 4.0K Jun 25 13:36 sample_data\n",
            "-rw-r--r--  1 root root  380 Jun 27 05:12 translate.py\n"
          ]
        }
      ],
      "source": [
        "# Direktori dataset akan dibuat di /content/\n",
        "dataset_dir = '/content/raw-img'\n",
        "\n",
        "if os.path.exists(dataset_dir):\n",
        "    print(\"Dataset 'raw-img' sudah ada. Melewatkan proses unduh.\")\n",
        "else:\n",
        "    print(\"Dataset belum ada. Memulai proses unduh dari Kaggle...\")\n",
        "    # Perintah kaggle untuk mengunduh dan unzip langsung ke direktori kerja saat ini (/content/)\n",
        "    !kaggle datasets download -d alessiocorrado99/animals10 --unzip\n",
        "    print(\"\\nDataset berhasil diunduh dan diekstrak.\")\n",
        "\n",
        "# Verifikasi isi folder\n",
        "print(\"\\nIsi direktori kerja saat ini (/content/):\")\n",
        "!ls -lh"
      ]
    },
    {
      "cell_type": "markdown",
      "metadata": {
        "id": "bFgLyQPHX98s"
      },
      "source": [
        "### Data Preprocessing"
      ]
    },
    {
      "cell_type": "markdown",
      "metadata": {
        "id": "9ICO2-E0YxzD"
      },
      "source": [
        "#### Split Dataset"
      ]
    },
    {
      "cell_type": "code",
      "execution_count": 4,
      "metadata": {
        "colab": {
          "base_uri": "https://localhost:8080/"
        },
        "id": "oYoQILB5GAYh",
        "outputId": "66dc9940-524b-4010-902d-a66497feb08e"
      },
      "outputs": [
        {
          "name": "stdout",
          "output_type": "stream",
          "text": [
            "\n",
            "Splitting dataset into train/val/test...\n"
          ]
        },
        {
          "name": "stderr",
          "output_type": "stream",
          "text": [
            "Copying files: 26179 files [00:04, 6490.87 files/s]"
          ]
        },
        {
          "name": "stdout",
          "output_type": "stream",
          "text": [
            "Dataset berhasil dibagi ke dalam folder: /content/dataset_split\n",
            "Isi folder output: ['train', 'val', 'test']\n"
          ]
        },
        {
          "name": "stderr",
          "output_type": "stream",
          "text": [
            "\n"
          ]
        }
      ],
      "source": [
        "# Path input dan output\n",
        "input_folder = '/content/raw-img'\n",
        "output_folder = '/content/dataset_split'\n",
        "\n",
        "# Check if input folder exists\n",
        "if not os.path.exists(input_folder):\n",
        "    print(f\"Error: Folder '{input_folder}' tidak ditemukan!\")\n",
        "    print(\"Pastikan dataset sudah didownload dan diekstrak.\")\n",
        "    sys.exit(1)\n",
        "\n",
        "# Hapus folder output jika sudah ada untuk memastikan kebersihan\n",
        "if os.path.exists(output_folder):\n",
        "    shutil.rmtree(output_folder)\n",
        "    print(f\"Removed existing {output_folder}\")\n",
        "\n",
        "# Lakukan pembagian dengan rasio 80:10:10\n",
        "print(\"\\nSplitting dataset into train/val/test...\")\n",
        "splitfolders.ratio(input_folder, output=output_folder, seed=42, ratio=(.8, .1, .1))\n",
        "\n",
        "print(f\"Dataset berhasil dibagi ke dalam folder: {output_folder}\")\n",
        "print(f\"Isi folder output: {os.listdir(output_folder)}\")"
      ]
    },
    {
      "cell_type": "code",
      "execution_count": 5,
      "metadata": {
        "colab": {
          "base_uri": "https://localhost:8080/"
        },
        "id": "7JcQMU2SGKCN",
        "outputId": "72ae34ae-b874-4ea9-fd91-be7761c281fb"
      },
      "outputs": [
        {
          "name": "stdout",
          "output_type": "stream",
          "text": [
            "Found 20938 files belonging to 10 classes.\n",
            "Found 2614 files belonging to 10 classes.\n",
            "Found 2627 files belonging to 10 classes.\n",
            "\n",
            "Nama kelas yang ditemukan: ['cane', 'cavallo', 'elefante', 'farfalla', 'gallina', 'gatto', 'mucca', 'pecora', 'ragno', 'scoiattolo']\n",
            "\n",
            "✓ Data pipeline sederhana (tanpa normalisasi/augmentasi) telah dibuat.\n"
          ]
        }
      ],
      "source": [
        "# --- Membangun Pipeline tf.data yang Efisien ---\n",
        "BATCH_SIZE = 32\n",
        "IMG_WIDTH, IMG_HEIGHT = 150, 150\n",
        "AUTOTUNE = tf.data.AUTOTUNE\n",
        "\n",
        "# Konversi path ke objek Pathlib untuk kemudahan\n",
        "data_dir = pathlib.Path(output_folder)\n",
        "train_dir = data_dir / 'train'\n",
        "val_dir = data_dir / 'val'\n",
        "test_dir = data_dir / 'test'\n",
        "\n",
        "# Buat dataset dari direktori\n",
        "train_dataset = tf.keras.utils.image_dataset_from_directory(\n",
        "    train_dir,\n",
        "    shuffle=True,\n",
        "    batch_size=BATCH_SIZE,\n",
        "    image_size=(IMG_HEIGHT, IMG_WIDTH)\n",
        ")\n",
        "\n",
        "validation_dataset = tf.keras.utils.image_dataset_from_directory(\n",
        "    val_dir,\n",
        "    shuffle=False,\n",
        "    batch_size=BATCH_SIZE,\n",
        "    image_size=(IMG_HEIGHT, IMG_WIDTH)\n",
        ")\n",
        "\n",
        "test_dataset = tf.keras.utils.image_dataset_from_directory(\n",
        "    test_dir,\n",
        "    shuffle=False,\n",
        "    batch_size=BATCH_SIZE,\n",
        "    image_size=(IMG_HEIGHT, IMG_WIDTH)\n",
        ")\n",
        "\n",
        "# Dapatkan nama kelas\n",
        "class_names = train_dataset.class_names\n",
        "print(\"\\nNama kelas yang ditemukan:\", class_names)\n",
        "\n",
        "# Optimalkan dataset dengan cache dan prefetch\n",
        "train_dataset = train_dataset.cache().prefetch(buffer_size=AUTOTUNE)\n",
        "validation_dataset = validation_dataset.cache().prefetch(buffer_size=AUTOTUNE)\n",
        "test_dataset = test_dataset.cache().prefetch(buffer_size=AUTOTUNE)\n",
        "\n",
        "print(\"\\n✓ Data pipeline sederhana (tanpa normalisasi/augmentasi) telah dibuat.\")"
      ]
    },
    {
      "cell_type": "markdown",
      "metadata": {
        "id": "nc-Ph-oIYAUU"
      },
      "source": [
        "## Modelling"
      ]
    },
    {
      "cell_type": "code",
      "execution_count": 6,
      "metadata": {
        "colab": {
          "base_uri": "https://localhost:8080/",
          "height": 547
        },
        "id": "UTwK0t8XYAUU",
        "outputId": "2b06f217-f435-4d58-ad06-1897b871c54b"
      },
      "outputs": [
        {
          "name": "stdout",
          "output_type": "stream",
          "text": [
            "Using device: /GPU:0\n",
            "Downloading data from https://storage.googleapis.com/keras-applications/efficientnetb0_notop.h5\n",
            "\u001b[1m16705208/16705208\u001b[0m \u001b[32m━━━━━━━━━━━━━━━━━━━━\u001b[0m\u001b[37m\u001b[0m \u001b[1m1s\u001b[0m 0us/step\n",
            "\n",
            "Model Summary (Sequential with Transfer Learning):\n"
          ]
        },
        {
          "data": {
            "text/html": [
              "<pre style=\"white-space:pre;overflow-x:auto;line-height:normal;font-family:Menlo,'DejaVu Sans Mono',consolas,'Courier New',monospace\"><span style=\"font-weight: bold\">Model: \"sequential_transfer_learning_model\"</span>\n",
              "</pre>\n"
            ],
            "text/plain": [
              "\u001b[1mModel: \"sequential_transfer_learning_model\"\u001b[0m\n"
            ]
          },
          "metadata": {},
          "output_type": "display_data"
        },
        {
          "data": {
            "text/html": [
              "<pre style=\"white-space:pre;overflow-x:auto;line-height:normal;font-family:Menlo,'DejaVu Sans Mono',consolas,'Courier New',monospace\">┏━━━━━━━━━━━━━━━━━━━━━━━━━━━━━━━━━┳━━━━━━━━━━━━━━━━━━━━━━━━┳━━━━━━━━━━━━━━━┓\n",
              "┃<span style=\"font-weight: bold\"> Layer (type)                    </span>┃<span style=\"font-weight: bold\"> Output Shape           </span>┃<span style=\"font-weight: bold\">       Param # </span>┃\n",
              "┡━━━━━━━━━━━━━━━━━━━━━━━━━━━━━━━━━╇━━━━━━━━━━━━━━━━━━━━━━━━╇━━━━━━━━━━━━━━━┩\n",
              "│ random_flip (<span style=\"color: #0087ff; text-decoration-color: #0087ff\">RandomFlip</span>)        │ ?                      │   <span style=\"color: #00af00; text-decoration-color: #00af00\">0</span> (unbuilt) │\n",
              "├─────────────────────────────────┼────────────────────────┼───────────────┤\n",
              "│ random_rotation                 │ ?                      │   <span style=\"color: #00af00; text-decoration-color: #00af00\">0</span> (unbuilt) │\n",
              "│ (<span style=\"color: #0087ff; text-decoration-color: #0087ff\">RandomRotation</span>)                │                        │               │\n",
              "├─────────────────────────────────┼────────────────────────┼───────────────┤\n",
              "│ random_zoom (<span style=\"color: #0087ff; text-decoration-color: #0087ff\">RandomZoom</span>)        │ ?                      │   <span style=\"color: #00af00; text-decoration-color: #00af00\">0</span> (unbuilt) │\n",
              "├─────────────────────────────────┼────────────────────────┼───────────────┤\n",
              "│ efficientnetb0 (<span style=\"color: #0087ff; text-decoration-color: #0087ff\">Functional</span>)     │ (<span style=\"color: #00d7ff; text-decoration-color: #00d7ff\">None</span>, <span style=\"color: #00af00; text-decoration-color: #00af00\">5</span>, <span style=\"color: #00af00; text-decoration-color: #00af00\">5</span>, <span style=\"color: #00af00; text-decoration-color: #00af00\">1280</span>)     │     <span style=\"color: #00af00; text-decoration-color: #00af00\">4,049,571</span> │\n",
              "├─────────────────────────────────┼────────────────────────┼───────────────┤\n",
              "│ conv2d (<span style=\"color: #0087ff; text-decoration-color: #0087ff\">Conv2D</span>)                 │ ?                      │   <span style=\"color: #00af00; text-decoration-color: #00af00\">0</span> (unbuilt) │\n",
              "├─────────────────────────────────┼────────────────────────┼───────────────┤\n",
              "│ max_pooling2d (<span style=\"color: #0087ff; text-decoration-color: #0087ff\">MaxPooling2D</span>)    │ ?                      │             <span style=\"color: #00af00; text-decoration-color: #00af00\">0</span> │\n",
              "├─────────────────────────────────┼────────────────────────┼───────────────┤\n",
              "│ flatten (<span style=\"color: #0087ff; text-decoration-color: #0087ff\">Flatten</span>)               │ ?                      │   <span style=\"color: #00af00; text-decoration-color: #00af00\">0</span> (unbuilt) │\n",
              "├─────────────────────────────────┼────────────────────────┼───────────────┤\n",
              "│ dense (<span style=\"color: #0087ff; text-decoration-color: #0087ff\">Dense</span>)                   │ ?                      │   <span style=\"color: #00af00; text-decoration-color: #00af00\">0</span> (unbuilt) │\n",
              "├─────────────────────────────────┼────────────────────────┼───────────────┤\n",
              "│ dropout (<span style=\"color: #0087ff; text-decoration-color: #0087ff\">Dropout</span>)               │ ?                      │             <span style=\"color: #00af00; text-decoration-color: #00af00\">0</span> │\n",
              "├─────────────────────────────────┼────────────────────────┼───────────────┤\n",
              "│ dense_1 (<span style=\"color: #0087ff; text-decoration-color: #0087ff\">Dense</span>)                 │ ?                      │   <span style=\"color: #00af00; text-decoration-color: #00af00\">0</span> (unbuilt) │\n",
              "└─────────────────────────────────┴────────────────────────┴───────────────┘\n",
              "</pre>\n"
            ],
            "text/plain": [
              "┏━━━━━━━━━━━━━━━━━━━━━━━━━━━━━━━━━┳━━━━━━━━━━━━━━━━━━━━━━━━┳━━━━━━━━━━━━━━━┓\n",
              "┃\u001b[1m \u001b[0m\u001b[1mLayer (type)                   \u001b[0m\u001b[1m \u001b[0m┃\u001b[1m \u001b[0m\u001b[1mOutput Shape          \u001b[0m\u001b[1m \u001b[0m┃\u001b[1m \u001b[0m\u001b[1m      Param #\u001b[0m\u001b[1m \u001b[0m┃\n",
              "┡━━━━━━━━━━━━━━━━━━━━━━━━━━━━━━━━━╇━━━━━━━━━━━━━━━━━━━━━━━━╇━━━━━━━━━━━━━━━┩\n",
              "│ random_flip (\u001b[38;5;33mRandomFlip\u001b[0m)        │ ?                      │   \u001b[38;5;34m0\u001b[0m (unbuilt) │\n",
              "├─────────────────────────────────┼────────────────────────┼───────────────┤\n",
              "│ random_rotation                 │ ?                      │   \u001b[38;5;34m0\u001b[0m (unbuilt) │\n",
              "│ (\u001b[38;5;33mRandomRotation\u001b[0m)                │                        │               │\n",
              "├─────────────────────────────────┼────────────────────────┼───────────────┤\n",
              "│ random_zoom (\u001b[38;5;33mRandomZoom\u001b[0m)        │ ?                      │   \u001b[38;5;34m0\u001b[0m (unbuilt) │\n",
              "├─────────────────────────────────┼────────────────────────┼───────────────┤\n",
              "│ efficientnetb0 (\u001b[38;5;33mFunctional\u001b[0m)     │ (\u001b[38;5;45mNone\u001b[0m, \u001b[38;5;34m5\u001b[0m, \u001b[38;5;34m5\u001b[0m, \u001b[38;5;34m1280\u001b[0m)     │     \u001b[38;5;34m4,049,571\u001b[0m │\n",
              "├─────────────────────────────────┼────────────────────────┼───────────────┤\n",
              "│ conv2d (\u001b[38;5;33mConv2D\u001b[0m)                 │ ?                      │   \u001b[38;5;34m0\u001b[0m (unbuilt) │\n",
              "├─────────────────────────────────┼────────────────────────┼───────────────┤\n",
              "│ max_pooling2d (\u001b[38;5;33mMaxPooling2D\u001b[0m)    │ ?                      │             \u001b[38;5;34m0\u001b[0m │\n",
              "├─────────────────────────────────┼────────────────────────┼───────────────┤\n",
              "│ flatten (\u001b[38;5;33mFlatten\u001b[0m)               │ ?                      │   \u001b[38;5;34m0\u001b[0m (unbuilt) │\n",
              "├─────────────────────────────────┼────────────────────────┼───────────────┤\n",
              "│ dense (\u001b[38;5;33mDense\u001b[0m)                   │ ?                      │   \u001b[38;5;34m0\u001b[0m (unbuilt) │\n",
              "├─────────────────────────────────┼────────────────────────┼───────────────┤\n",
              "│ dropout (\u001b[38;5;33mDropout\u001b[0m)               │ ?                      │             \u001b[38;5;34m0\u001b[0m │\n",
              "├─────────────────────────────────┼────────────────────────┼───────────────┤\n",
              "│ dense_1 (\u001b[38;5;33mDense\u001b[0m)                 │ ?                      │   \u001b[38;5;34m0\u001b[0m (unbuilt) │\n",
              "└─────────────────────────────────┴────────────────────────┴───────────────┘\n"
            ]
          },
          "metadata": {},
          "output_type": "display_data"
        },
        {
          "data": {
            "text/html": [
              "<pre style=\"white-space:pre;overflow-x:auto;line-height:normal;font-family:Menlo,'DejaVu Sans Mono',consolas,'Courier New',monospace\"><span style=\"font-weight: bold\"> Total params: </span><span style=\"color: #00af00; text-decoration-color: #00af00\">4,049,571</span> (15.45 MB)\n",
              "</pre>\n"
            ],
            "text/plain": [
              "\u001b[1m Total params: \u001b[0m\u001b[38;5;34m4,049,571\u001b[0m (15.45 MB)\n"
            ]
          },
          "metadata": {},
          "output_type": "display_data"
        },
        {
          "data": {
            "text/html": [
              "<pre style=\"white-space:pre;overflow-x:auto;line-height:normal;font-family:Menlo,'DejaVu Sans Mono',consolas,'Courier New',monospace\"><span style=\"font-weight: bold\"> Trainable params: </span><span style=\"color: #00af00; text-decoration-color: #00af00\">0</span> (0.00 B)\n",
              "</pre>\n"
            ],
            "text/plain": [
              "\u001b[1m Trainable params: \u001b[0m\u001b[38;5;34m0\u001b[0m (0.00 B)\n"
            ]
          },
          "metadata": {},
          "output_type": "display_data"
        },
        {
          "data": {
            "text/html": [
              "<pre style=\"white-space:pre;overflow-x:auto;line-height:normal;font-family:Menlo,'DejaVu Sans Mono',consolas,'Courier New',monospace\"><span style=\"font-weight: bold\"> Non-trainable params: </span><span style=\"color: #00af00; text-decoration-color: #00af00\">4,049,571</span> (15.45 MB)\n",
              "</pre>\n"
            ],
            "text/plain": [
              "\u001b[1m Non-trainable params: \u001b[0m\u001b[38;5;34m4,049,571\u001b[0m (15.45 MB)\n"
            ]
          },
          "metadata": {},
          "output_type": "display_data"
        }
      ],
      "source": [
        "# Pastikan Anda sudah mengatur device\n",
        "device = '/GPU:0' if len(tf.config.list_physical_devices('GPU')) > 0 else '/CPU:0'\n",
        "print(f\"Using device: {device}\")\n",
        "\n",
        "with tf.device(device):\n",
        "    # 1. base model (EfficientNetB0) untuk dimasukkan ke Sequential\n",
        "    base_model = EfficientNetB0(\n",
        "        weights='imagenet',\n",
        "        include_top=False,\n",
        "        input_shape=(IMG_WIDTH, IMG_HEIGHT, 3)\n",
        "    )\n",
        "\n",
        "    # Bekukan base model\n",
        "    base_model.trainable = False\n",
        "\n",
        "    # 2. Bangun model menggunakan tf.keras.Sequential\n",
        "    model = Sequential([\n",
        "        # Lapisan untuk augmentasi data\n",
        "        tf.keras.layers.RandomFlip(\"horizontal\"),\n",
        "        tf.keras.layers.RandomRotation(0.2),\n",
        "        tf.keras.layers.RandomZoom(0.2),\n",
        "        base_model,\n",
        "\n",
        "        # Tambahkan layer Conv2D kustom\n",
        "        Conv2D(64, (3, 3), activation='relu', padding='same'),\n",
        "\n",
        "        # Tambahkan layer Pooling kustom\n",
        "        MaxPooling2D(pool_size=(2, 2)),\n",
        "        # --------------------------------------------------\n",
        "\n",
        "        # Flatten output untuk disambungkan ke Dense layer\n",
        "        Flatten(),\n",
        "\n",
        "        # Classifier Head\n",
        "        Dense(512, activation='relu'),\n",
        "        Dropout(0.5),\n",
        "        Dense(len(class_names), activation='softmax')\n",
        "    ], name=\"sequential_transfer_learning_model\")\n",
        "\n",
        "    # 3. Kompilasi model\n",
        "    model.compile(\n",
        "        optimizer=Adam(learning_rate=0.0001),\n",
        "        loss='sparse_categorical_crossentropy',\n",
        "        metrics=['accuracy']\n",
        "    )\n",
        "\n",
        "print(\"\\nModel Summary (Sequential with Transfer Learning):\")\n",
        "model.summary()"
      ]
    },
    {
      "cell_type": "markdown",
      "metadata": {
        "id": "XctzCfzbYCBK"
      },
      "source": [
        "## Evaluasi dan Visualisasi"
      ]
    },
    {
      "cell_type": "code",
      "execution_count": 7,
      "metadata": {
        "id": "EKk-ScZWYCBK"
      },
      "outputs": [],
      "source": [
        "# Definisikan callbacks\n",
        "callbacks = [\n",
        "    EarlyStopping(\n",
        "        monitor='val_accuracy',\n",
        "        patience=10,\n",
        "        restore_best_weights=True,\n",
        "        verbose=1\n",
        "    ),\n",
        "    ModelCheckpoint(\n",
        "        filepath='best_model.keras',\n",
        "        monitor='val_accuracy',\n",
        "        save_best_only=True,\n",
        "        verbose=1\n",
        "    ),\n",
        "    ReduceLROnPlateau(\n",
        "        monitor='val_loss',\n",
        "        factor=0.2,\n",
        "        patience=5,\n",
        "        min_lr=1e-6,\n",
        "        verbose=1\n",
        "    )\n",
        "]"
      ]
    },
    {
      "cell_type": "code",
      "execution_count": 8,
      "metadata": {
        "colab": {
          "base_uri": "https://localhost:8080/"
        },
        "id": "A08tFtLKGRyF",
        "outputId": "1ca068b0-00cc-42fc-cc60-865125e23345"
      },
      "outputs": [
        {
          "name": "stdout",
          "output_type": "stream",
          "text": [
            "\n",
            "Starting training for 50 epochs...\n",
            "Epoch 1/50\n",
            "\u001b[1m655/655\u001b[0m \u001b[32m━━━━━━━━━━━━━━━━━━━━\u001b[0m\u001b[37m\u001b[0m \u001b[1m0s\u001b[0m 56ms/step - accuracy: 0.6576 - loss: 1.0902\n",
            "Epoch 1: val_accuracy improved from -inf to 0.94185, saving model to best_model.keras\n",
            "\u001b[1m655/655\u001b[0m \u001b[32m━━━━━━━━━━━━━━━━━━━━\u001b[0m\u001b[37m\u001b[0m \u001b[1m62s\u001b[0m 70ms/step - accuracy: 0.6578 - loss: 1.0896 - val_accuracy: 0.9419 - val_loss: 0.1873 - learning_rate: 1.0000e-04\n",
            "Epoch 2/50\n",
            "\u001b[1m654/655\u001b[0m \u001b[32m━━━━━━━━━━━━━━━━━━━\u001b[0m\u001b[37m━\u001b[0m \u001b[1m0s\u001b[0m 40ms/step - accuracy: 0.8628 - loss: 0.4269\n",
            "Epoch 2: val_accuracy improved from 0.94185 to 0.94682, saving model to best_model.keras\n",
            "\u001b[1m655/655\u001b[0m \u001b[32m━━━━━━━━━━━━━━━━━━━━\u001b[0m\u001b[37m\u001b[0m \u001b[1m30s\u001b[0m 46ms/step - accuracy: 0.8628 - loss: 0.4268 - val_accuracy: 0.9468 - val_loss: 0.1655 - learning_rate: 1.0000e-04\n",
            "Epoch 3/50\n",
            "\u001b[1m655/655\u001b[0m \u001b[32m━━━━━━━━━━━━━━━━━━━━\u001b[0m\u001b[37m\u001b[0m \u001b[1m0s\u001b[0m 40ms/step - accuracy: 0.8888 - loss: 0.3443\n",
            "Epoch 3: val_accuracy improved from 0.94682 to 0.95180, saving model to best_model.keras\n",
            "\u001b[1m655/655\u001b[0m \u001b[32m━━━━━━━━━━━━━━━━━━━━\u001b[0m\u001b[37m\u001b[0m \u001b[1m30s\u001b[0m 46ms/step - accuracy: 0.8888 - loss: 0.3443 - val_accuracy: 0.9518 - val_loss: 0.1594 - learning_rate: 1.0000e-04\n",
            "Epoch 4/50\n",
            "\u001b[1m654/655\u001b[0m \u001b[32m━━━━━━━━━━━━━━━━━━━\u001b[0m\u001b[37m━\u001b[0m \u001b[1m0s\u001b[0m 41ms/step - accuracy: 0.8953 - loss: 0.3174\n",
            "Epoch 4: val_accuracy improved from 0.95180 to 0.95448, saving model to best_model.keras\n",
            "\u001b[1m655/655\u001b[0m \u001b[32m━━━━━━━━━━━━━━━━━━━━\u001b[0m\u001b[37m\u001b[0m \u001b[1m30s\u001b[0m 46ms/step - accuracy: 0.8953 - loss: 0.3174 - val_accuracy: 0.9545 - val_loss: 0.1511 - learning_rate: 1.0000e-04\n",
            "Epoch 5/50\n",
            "\u001b[1m655/655\u001b[0m \u001b[32m━━━━━━━━━━━━━━━━━━━━\u001b[0m\u001b[37m\u001b[0m \u001b[1m0s\u001b[0m 41ms/step - accuracy: 0.8985 - loss: 0.3041\n",
            "Epoch 5: val_accuracy did not improve from 0.95448\n",
            "\u001b[1m655/655\u001b[0m \u001b[32m━━━━━━━━━━━━━━━━━━━━\u001b[0m\u001b[37m\u001b[0m \u001b[1m30s\u001b[0m 46ms/step - accuracy: 0.8985 - loss: 0.3041 - val_accuracy: 0.9526 - val_loss: 0.1504 - learning_rate: 1.0000e-04\n",
            "Epoch 6/50\n",
            "\u001b[1m655/655\u001b[0m \u001b[32m━━━━━━━━━━━━━━━━━━━━\u001b[0m\u001b[37m\u001b[0m \u001b[1m0s\u001b[0m 41ms/step - accuracy: 0.9076 - loss: 0.2832\n",
            "Epoch 6: val_accuracy improved from 0.95448 to 0.95639, saving model to best_model.keras\n",
            "\u001b[1m655/655\u001b[0m \u001b[32m━━━━━━━━━━━━━━━━━━━━\u001b[0m\u001b[37m\u001b[0m \u001b[1m41s\u001b[0m 46ms/step - accuracy: 0.9076 - loss: 0.2831 - val_accuracy: 0.9564 - val_loss: 0.1443 - learning_rate: 1.0000e-04\n",
            "Epoch 7/50\n",
            "\u001b[1m655/655\u001b[0m \u001b[32m━━━━━━━━━━━━━━━━━━━━\u001b[0m\u001b[37m\u001b[0m \u001b[1m0s\u001b[0m 42ms/step - accuracy: 0.9152 - loss: 0.2615\n",
            "Epoch 7: val_accuracy did not improve from 0.95639\n",
            "\u001b[1m655/655\u001b[0m \u001b[32m━━━━━━━━━━━━━━━━━━━━\u001b[0m\u001b[37m\u001b[0m \u001b[1m31s\u001b[0m 47ms/step - accuracy: 0.9152 - loss: 0.2615 - val_accuracy: 0.9507 - val_loss: 0.1450 - learning_rate: 1.0000e-04\n",
            "Epoch 8/50\n",
            "\u001b[1m654/655\u001b[0m \u001b[32m━━━━━━━━━━━━━━━━━━━\u001b[0m\u001b[37m━\u001b[0m \u001b[1m0s\u001b[0m 41ms/step - accuracy: 0.9155 - loss: 0.2571\n",
            "Epoch 8: val_accuracy did not improve from 0.95639\n",
            "\u001b[1m655/655\u001b[0m \u001b[32m━━━━━━━━━━━━━━━━━━━━\u001b[0m\u001b[37m\u001b[0m \u001b[1m40s\u001b[0m 46ms/step - accuracy: 0.9155 - loss: 0.2570 - val_accuracy: 0.9564 - val_loss: 0.1437 - learning_rate: 1.0000e-04\n",
            "Epoch 9/50\n",
            "\u001b[1m655/655\u001b[0m \u001b[32m━━━━━━━━━━━━━━━━━━━━\u001b[0m\u001b[37m\u001b[0m \u001b[1m0s\u001b[0m 41ms/step - accuracy: 0.9224 - loss: 0.2302\n",
            "Epoch 9: val_accuracy did not improve from 0.95639\n",
            "\u001b[1m655/655\u001b[0m \u001b[32m━━━━━━━━━━━━━━━━━━━━\u001b[0m\u001b[37m\u001b[0m \u001b[1m30s\u001b[0m 46ms/step - accuracy: 0.9224 - loss: 0.2303 - val_accuracy: 0.9541 - val_loss: 0.1457 - learning_rate: 1.0000e-04\n",
            "Epoch 10/50\n",
            "\u001b[1m654/655\u001b[0m \u001b[32m━━━━━━━━━━━━━━━━━━━\u001b[0m\u001b[37m━\u001b[0m \u001b[1m0s\u001b[0m 41ms/step - accuracy: 0.9244 - loss: 0.2357\n",
            "Epoch 10: val_accuracy did not improve from 0.95639\n",
            "\u001b[1m655/655\u001b[0m \u001b[32m━━━━━━━━━━━━━━━━━━━━\u001b[0m\u001b[37m\u001b[0m \u001b[1m30s\u001b[0m 45ms/step - accuracy: 0.9244 - loss: 0.2357 - val_accuracy: 0.9552 - val_loss: 0.1506 - learning_rate: 1.0000e-04\n",
            "Epoch 11/50\n",
            "\u001b[1m654/655\u001b[0m \u001b[32m━━━━━━━━━━━━━━━━━━━\u001b[0m\u001b[37m━\u001b[0m \u001b[1m0s\u001b[0m 41ms/step - accuracy: 0.9272 - loss: 0.2240\n",
            "Epoch 11: val_accuracy did not improve from 0.95639\n",
            "\u001b[1m655/655\u001b[0m \u001b[32m━━━━━━━━━━━━━━━━━━━━\u001b[0m\u001b[37m\u001b[0m \u001b[1m30s\u001b[0m 45ms/step - accuracy: 0.9272 - loss: 0.2240 - val_accuracy: 0.9560 - val_loss: 0.1438 - learning_rate: 1.0000e-04\n",
            "Epoch 12/50\n",
            "\u001b[1m655/655\u001b[0m \u001b[32m━━━━━━━━━━━━━━━━━━━━\u001b[0m\u001b[37m\u001b[0m \u001b[1m0s\u001b[0m 41ms/step - accuracy: 0.9285 - loss: 0.2222\n",
            "Epoch 12: val_accuracy improved from 0.95639 to 0.95677, saving model to best_model.keras\n",
            "\u001b[1m655/655\u001b[0m \u001b[32m━━━━━━━━━━━━━━━━━━━━\u001b[0m\u001b[37m\u001b[0m \u001b[1m31s\u001b[0m 47ms/step - accuracy: 0.9285 - loss: 0.2222 - val_accuracy: 0.9568 - val_loss: 0.1520 - learning_rate: 1.0000e-04\n",
            "Epoch 13/50\n",
            "\u001b[1m655/655\u001b[0m \u001b[32m━━━━━━━━━━━━━━━━━━━━\u001b[0m\u001b[37m\u001b[0m \u001b[1m0s\u001b[0m 41ms/step - accuracy: 0.9331 - loss: 0.2056\n",
            "Epoch 13: val_accuracy did not improve from 0.95677\n",
            "\n",
            "Epoch 13: ReduceLROnPlateau reducing learning rate to 1.9999999494757503e-05.\n",
            "\u001b[1m655/655\u001b[0m \u001b[32m━━━━━━━━━━━━━━━━━━━━\u001b[0m\u001b[37m\u001b[0m \u001b[1m30s\u001b[0m 45ms/step - accuracy: 0.9331 - loss: 0.2056 - val_accuracy: 0.9556 - val_loss: 0.1500 - learning_rate: 1.0000e-04\n",
            "Epoch 14/50\n",
            "\u001b[1m654/655\u001b[0m \u001b[32m━━━━━━━━━━━━━━━━━━━\u001b[0m\u001b[37m━\u001b[0m \u001b[1m0s\u001b[0m 41ms/step - accuracy: 0.9372 - loss: 0.1866\n",
            "Epoch 14: val_accuracy improved from 0.95677 to 0.95830, saving model to best_model.keras\n",
            "\u001b[1m655/655\u001b[0m \u001b[32m━━━━━━━━━━━━━━━━━━━━\u001b[0m\u001b[37m\u001b[0m \u001b[1m30s\u001b[0m 47ms/step - accuracy: 0.9372 - loss: 0.1866 - val_accuracy: 0.9583 - val_loss: 0.1408 - learning_rate: 2.0000e-05\n",
            "Epoch 15/50\n",
            "\u001b[1m654/655\u001b[0m \u001b[32m━━━━━━━━━━━━━━━━━━━\u001b[0m\u001b[37m━\u001b[0m \u001b[1m0s\u001b[0m 41ms/step - accuracy: 0.9411 - loss: 0.1773\n",
            "Epoch 15: val_accuracy improved from 0.95830 to 0.95983, saving model to best_model.keras\n",
            "\u001b[1m655/655\u001b[0m \u001b[32m━━━━━━━━━━━━━━━━━━━━\u001b[0m\u001b[37m\u001b[0m \u001b[1m33s\u001b[0m 50ms/step - accuracy: 0.9411 - loss: 0.1773 - val_accuracy: 0.9598 - val_loss: 0.1396 - learning_rate: 2.0000e-05\n",
            "Epoch 16/50\n",
            "\u001b[1m654/655\u001b[0m \u001b[32m━━━━━━━━━━━━━━━━━━━\u001b[0m\u001b[37m━\u001b[0m \u001b[1m0s\u001b[0m 41ms/step - accuracy: 0.9434 - loss: 0.1697\n",
            "Epoch 16: val_accuracy improved from 0.95983 to 0.96098, saving model to best_model.keras\n",
            "\u001b[1m655/655\u001b[0m \u001b[32m━━━━━━━━━━━━━━━━━━━━\u001b[0m\u001b[37m\u001b[0m \u001b[1m31s\u001b[0m 47ms/step - accuracy: 0.9434 - loss: 0.1697 - val_accuracy: 0.9610 - val_loss: 0.1387 - learning_rate: 2.0000e-05\n",
            "Epoch 17/50\n",
            "\u001b[1m654/655\u001b[0m \u001b[32m━━━━━━━━━━━━━━━━━━━\u001b[0m\u001b[37m━\u001b[0m \u001b[1m0s\u001b[0m 41ms/step - accuracy: 0.9474 - loss: 0.1602\n",
            "Epoch 17: val_accuracy improved from 0.96098 to 0.96251, saving model to best_model.keras\n",
            "\u001b[1m655/655\u001b[0m \u001b[32m━━━━━━━━━━━━━━━━━━━━\u001b[0m\u001b[37m\u001b[0m \u001b[1m41s\u001b[0m 47ms/step - accuracy: 0.9474 - loss: 0.1602 - val_accuracy: 0.9625 - val_loss: 0.1381 - learning_rate: 2.0000e-05\n",
            "Epoch 18/50\n",
            "\u001b[1m655/655\u001b[0m \u001b[32m━━━━━━━━━━━━━━━━━━━━\u001b[0m\u001b[37m\u001b[0m \u001b[1m0s\u001b[0m 41ms/step - accuracy: 0.9423 - loss: 0.1724\n",
            "Epoch 18: val_accuracy did not improve from 0.96251\n",
            "\u001b[1m655/655\u001b[0m \u001b[32m━━━━━━━━━━━━━━━━━━━━\u001b[0m\u001b[37m\u001b[0m \u001b[1m30s\u001b[0m 46ms/step - accuracy: 0.9423 - loss: 0.1724 - val_accuracy: 0.9602 - val_loss: 0.1406 - learning_rate: 2.0000e-05\n",
            "Epoch 19/50\n",
            "\u001b[1m655/655\u001b[0m \u001b[32m━━━━━━━━━━━━━━━━━━━━\u001b[0m\u001b[37m\u001b[0m \u001b[1m0s\u001b[0m 41ms/step - accuracy: 0.9450 - loss: 0.1664\n",
            "Epoch 19: val_accuracy did not improve from 0.96251\n",
            "\u001b[1m655/655\u001b[0m \u001b[32m━━━━━━━━━━━━━━━━━━━━\u001b[0m\u001b[37m\u001b[0m \u001b[1m30s\u001b[0m 45ms/step - accuracy: 0.9450 - loss: 0.1664 - val_accuracy: 0.9602 - val_loss: 0.1359 - learning_rate: 2.0000e-05\n",
            "Epoch 20/50\n",
            "\u001b[1m654/655\u001b[0m \u001b[32m━━━━━━━━━━━━━━━━━━━\u001b[0m\u001b[37m━\u001b[0m \u001b[1m0s\u001b[0m 41ms/step - accuracy: 0.9451 - loss: 0.1562\n",
            "Epoch 20: val_accuracy did not improve from 0.96251\n",
            "\u001b[1m655/655\u001b[0m \u001b[32m━━━━━━━━━━━━━━━━━━━━\u001b[0m\u001b[37m\u001b[0m \u001b[1m30s\u001b[0m 46ms/step - accuracy: 0.9451 - loss: 0.1562 - val_accuracy: 0.9598 - val_loss: 0.1389 - learning_rate: 2.0000e-05\n",
            "Epoch 21/50\n",
            "\u001b[1m655/655\u001b[0m \u001b[32m━━━━━━━━━━━━━━━━━━━━\u001b[0m\u001b[37m\u001b[0m \u001b[1m0s\u001b[0m 41ms/step - accuracy: 0.9507 - loss: 0.1550\n",
            "Epoch 21: val_accuracy did not improve from 0.96251\n",
            "\u001b[1m655/655\u001b[0m \u001b[32m━━━━━━━━━━━━━━━━━━━━\u001b[0m\u001b[37m\u001b[0m \u001b[1m41s\u001b[0m 46ms/step - accuracy: 0.9507 - loss: 0.1549 - val_accuracy: 0.9617 - val_loss: 0.1408 - learning_rate: 2.0000e-05\n",
            "Epoch 22/50\n",
            "\u001b[1m654/655\u001b[0m \u001b[32m━━━━━━━━━━━━━━━━━━━\u001b[0m\u001b[37m━\u001b[0m \u001b[1m0s\u001b[0m 42ms/step - accuracy: 0.9465 - loss: 0.1590\n",
            "Epoch 22: val_accuracy did not improve from 0.96251\n",
            "\u001b[1m655/655\u001b[0m \u001b[32m━━━━━━━━━━━━━━━━━━━━\u001b[0m\u001b[37m\u001b[0m \u001b[1m41s\u001b[0m 46ms/step - accuracy: 0.9465 - loss: 0.1589 - val_accuracy: 0.9610 - val_loss: 0.1392 - learning_rate: 2.0000e-05\n",
            "Epoch 23/50\n",
            "\u001b[1m655/655\u001b[0m \u001b[32m━━━━━━━━━━━━━━━━━━━━\u001b[0m\u001b[37m\u001b[0m \u001b[1m0s\u001b[0m 41ms/step - accuracy: 0.9500 - loss: 0.1530\n",
            "Epoch 23: val_accuracy did not improve from 0.96251\n",
            "\u001b[1m655/655\u001b[0m \u001b[32m━━━━━━━━━━━━━━━━━━━━\u001b[0m\u001b[37m\u001b[0m \u001b[1m30s\u001b[0m 46ms/step - accuracy: 0.9500 - loss: 0.1529 - val_accuracy: 0.9614 - val_loss: 0.1366 - learning_rate: 2.0000e-05\n",
            "Epoch 24/50\n",
            "\u001b[1m655/655\u001b[0m \u001b[32m━━━━━━━━━━━━━━━━━━━━\u001b[0m\u001b[37m\u001b[0m \u001b[1m0s\u001b[0m 41ms/step - accuracy: 0.9493 - loss: 0.1519\n",
            "Epoch 24: val_accuracy did not improve from 0.96251\n",
            "\n",
            "Epoch 24: ReduceLROnPlateau reducing learning rate to 3.999999898951501e-06.\n",
            "\u001b[1m655/655\u001b[0m \u001b[32m━━━━━━━━━━━━━━━━━━━━\u001b[0m\u001b[37m\u001b[0m \u001b[1m30s\u001b[0m 46ms/step - accuracy: 0.9493 - loss: 0.1519 - val_accuracy: 0.9602 - val_loss: 0.1400 - learning_rate: 2.0000e-05\n",
            "Epoch 25/50\n",
            "\u001b[1m655/655\u001b[0m \u001b[32m━━━━━━━━━━━━━━━━━━━━\u001b[0m\u001b[37m\u001b[0m \u001b[1m0s\u001b[0m 41ms/step - accuracy: 0.9527 - loss: 0.1429\n",
            "Epoch 25: val_accuracy did not improve from 0.96251\n",
            "\u001b[1m655/655\u001b[0m \u001b[32m━━━━━━━━━━━━━━━━━━━━\u001b[0m\u001b[37m\u001b[0m \u001b[1m41s\u001b[0m 46ms/step - accuracy: 0.9527 - loss: 0.1429 - val_accuracy: 0.9598 - val_loss: 0.1388 - learning_rate: 4.0000e-06\n",
            "Epoch 26/50\n",
            "\u001b[1m654/655\u001b[0m \u001b[32m━━━━━━━━━━━━━━━━━━━\u001b[0m\u001b[37m━\u001b[0m \u001b[1m0s\u001b[0m 41ms/step - accuracy: 0.9487 - loss: 0.1442\n",
            "Epoch 26: val_accuracy did not improve from 0.96251\n",
            "\u001b[1m655/655\u001b[0m \u001b[32m━━━━━━━━━━━━━━━━━━━━\u001b[0m\u001b[37m\u001b[0m \u001b[1m30s\u001b[0m 46ms/step - accuracy: 0.9487 - loss: 0.1442 - val_accuracy: 0.9598 - val_loss: 0.1384 - learning_rate: 4.0000e-06\n",
            "Epoch 27/50\n",
            "\u001b[1m654/655\u001b[0m \u001b[32m━━━━━━━━━━━━━━━━━━━\u001b[0m\u001b[37m━\u001b[0m \u001b[1m0s\u001b[0m 41ms/step - accuracy: 0.9508 - loss: 0.1442\n",
            "Epoch 27: val_accuracy did not improve from 0.96251\n",
            "\u001b[1m655/655\u001b[0m \u001b[32m━━━━━━━━━━━━━━━━━━━━\u001b[0m\u001b[37m\u001b[0m \u001b[1m30s\u001b[0m 45ms/step - accuracy: 0.9508 - loss: 0.1442 - val_accuracy: 0.9594 - val_loss: 0.1383 - learning_rate: 4.0000e-06\n",
            "Epoch 27: early stopping\n",
            "Restoring model weights from the end of the best epoch: 17.\n"
          ]
        }
      ],
      "source": [
        "# Tentukan jumlah epoch\n",
        "EPOCHS = 50\n",
        "\n",
        "print(f\"\\nStarting training for {EPOCHS} epochs...\")\n",
        "\n",
        "# Latih model menggunakan tf.data.Dataset\n",
        "history = model.fit(\n",
        "    train_dataset,\n",
        "    epochs=EPOCHS,\n",
        "    validation_data=validation_dataset,\n",
        "    callbacks=callbacks,\n",
        "    verbose=1\n",
        ")\n"
      ]
    },
    {
      "cell_type": "code",
      "execution_count": 9,
      "metadata": {
        "colab": {
          "base_uri": "https://localhost:8080/",
          "height": 542
        },
        "id": "0dLrtKSTGRei",
        "outputId": "f519dd79-fd0c-4543-e960-2b1de772d85f"
      },
      "outputs": [
        {
          "name": "stdout",
          "output_type": "stream",
          "text": [
            "\n",
            "Plotting training history...\n"
          ]
        },
        {
          "data": {
            "image/png": "[encoded data removed]",
            "text/plain": [
              "<Figure size 1400x500 with 2 Axes>"
            ]
          },
          "metadata": {},
          "output_type": "display_data"
        }
      ],
      "source": [
        "# Plot akurasi dan loss\n",
        "print(\"\\nPlotting training history...\")\n",
        "acc = history.history['accuracy']\n",
        "val_acc = history.history['val_accuracy']\n",
        "loss = history.history['loss']\n",
        "val_loss = history.history['val_loss']\n",
        "\n",
        "epochs_range = range(len(acc))\n",
        "\n",
        "plt.figure(figsize=(14, 5))\n",
        "plt.subplot(1, 2, 1)\n",
        "plt.plot(epochs_range, acc, label='Training Accuracy')\n",
        "plt.plot(epochs_range, val_acc, label='Validation Accuracy')\n",
        "plt.legend(loc='lower right')\n",
        "plt.title('Training and Validation Accuracy')\n",
        "plt.grid(True)\n",
        "\n",
        "plt.subplot(1, 2, 2)\n",
        "plt.plot(epochs_range, loss, label='Training Loss')\n",
        "plt.plot(epochs_range, val_loss, label='Validation Loss')\n",
        "plt.legend(loc='upper right')\n",
        "plt.title('Training and Validation Loss')\n",
        "plt.grid(True)\n",
        "plt.tight_layout()\n",
        "plt.show()"
      ]
    },
    {
      "cell_type": "code",
      "execution_count": 10,
      "metadata": {
        "colab": {
          "base_uri": "https://localhost:8080/",
          "height": 1000
        },
        "id": "DDnTudJpGRYx",
        "outputId": "919bd18f-d658-4b5a-ee09-3ca514a967fd"
      },
      "outputs": [
        {
          "name": "stdout",
          "output_type": "stream",
          "text": [
            "\n",
            "Mengevaluasi model pada data tes...\n",
            "\u001b[1m83/83\u001b[0m \u001b[32m━━━━━━━━━━━━━━━━━━━━\u001b[0m\u001b[37m\u001b[0m \u001b[1m5s\u001b[0m 61ms/step - accuracy: 0.9705 - loss: 0.1137\n",
            "\n",
            "Akurasi pada data tes: 96.57%\n",
            "Loss pada data tes: 0.1470\n",
            "\n",
            "Generating predictions...\n",
            "\u001b[1m83/83\u001b[0m \u001b[32m━━━━━━━━━━━━━━━━━━━━\u001b[0m\u001b[37m\u001b[0m \u001b[1m8s\u001b[0m 64ms/step\n",
            "\n",
            "Classification Report:\n",
            "              precision    recall  f1-score   support\n",
            "\n",
            "        cane       0.97      0.97      0.97       487\n",
            "     cavallo       0.95      0.97      0.96       263\n",
            "    elefante       0.95      0.99      0.97       146\n",
            "    farfalla       0.99      0.96      0.97       212\n",
            "     gallina       0.98      0.98      0.98       311\n",
            "       gatto       0.95      0.96      0.96       168\n",
            "       mucca       0.92      0.93      0.92       188\n",
            "      pecora       0.93      0.88      0.91       182\n",
            "       ragno       0.98      0.98      0.98       483\n",
            "  scoiattolo       0.98      0.98      0.98       187\n",
            "\n",
            "    accuracy                           0.97      2627\n",
            "   macro avg       0.96      0.96      0.96      2627\n",
            "weighted avg       0.97      0.97      0.97      2627\n",
            "\n"
          ]
        },
        {
          "data": {
            "image/png": "[encoded data removed]",
            "text/plain": [
              "<Figure size 1000x800 with 2 Axes>"
            ]
          },
          "metadata": {},
          "output_type": "display_data"
        }
      ],
      "source": [
        "# --- Evaluasi pada data tes menggunakan test_dataset ---\n",
        "print(\"\\nMengevaluasi model pada data tes...\")\n",
        "test_loss, test_acc = model.evaluate(test_dataset, verbose=1)\n",
        "\n",
        "print(f'\\nAkurasi pada data tes: {test_acc*100:.2f}%')\n",
        "print(f'Loss pada data tes: {test_loss:.4f}')\n",
        "\n",
        "# --- Prediksi untuk classification report dan confusion matrix ---\n",
        "print(\"\\nGenerating predictions...\")\n",
        "Y_pred = model.predict(test_dataset)\n",
        "y_pred_classes = np.argmax(Y_pred, axis=1)\n",
        "\n",
        "y_true = np.concatenate([y for x, y in test_dataset], axis=0)\n",
        "\n",
        "# Laporan Klasifikasi\n",
        "print('\\nClassification Report:')\n",
        "print(classification_report(y_true, y_pred_classes, target_names=class_names))\n",
        "\n",
        "# Confusion Matrix\n",
        "conf_mat = confusion_matrix(y_true, y_pred_classes)\n",
        "plt.figure(figsize=(10, 8))\n",
        "sns.heatmap(conf_mat, annot=True, fmt='d', cmap='Blues',\n",
        "            xticklabels=class_names, yticklabels=class_names)\n",
        "plt.title('Confusion Matrix')\n",
        "plt.ylabel('Kelas Asli')\n",
        "plt.xlabel('Kelas Prediksi')\n",
        "plt.tight_layout()\n",
        "plt.show()\n"
      ]
    },
    {
      "cell_type": "markdown",
      "metadata": {
        "id": "y_fIsUogYFSk"
      },
      "source": [
        "## Konversi Model"
      ]
    },
    {
      "cell_type": "code",
      "execution_count": null,
      "metadata": {
        "id": "hZvGBpYoYFSl"
      },
      "outputs": [],
      "source": [
        "# --- Langkah 1: Buat arsitektur model inferensi (tanpa augmentasi) ---\n",
        "print(\"Membangun arsitektur model inferensi...\")\n",
        "\n",
        "# Kita buat ulang arsitektur TANPA lapisan augmentasi di awal\n",
        "inference_model = Sequential([\n",
        "    # Tidak ada lapisan augmentasi di sini\n",
        "    EfficientNetB0(\n",
        "        weights=None, # Bobot akan dimuat dari file, bukan diunduh\n",
        "        include_top=False,\n",
        "        input_shape=(IMG_WIDTH, IMG_HEIGHT, 3)\n",
        "    ),\n",
        "    Conv2D(64, (3, 3), activation='relu', padding='same'),\n",
        "    MaxPooling2D(pool_size=(2, 2)),\n",
        "    Flatten(),\n",
        "    Dense(512, activation='relu'),\n",
        "    Dropout(0.5),\n",
        "    Dense(len(class_names), activation='softmax')\n",
        "], name=\"inference_model\")\n",
        "\n",
        "# --- Langkah 2: Muat bobot terbaik ke model inferensi ---\n",
        "print(\"\\nMemuat bobot terbaik dari 'best_model.keras'...\")\n",
        "inference_model.load_weights('best_model.keras')\n",
        "print(\"✓ Bobot berhasil dimuat.\")\n",
        "\n",
        "# --- Langkah 3: Ekspor 'inference_model' yang bersih ---\n",
        "os.makedirs('saved_model', exist_ok=True)\n",
        "os.makedirs('tflite', exist_ok=True)\n",
        "os.makedirs('tfjs_model', exist_ok=True)\n",
        "\n",
        "SAVED_MODEL_PATH = 'saved_model'\n",
        "TFLITE_DIR = 'tflite'\n",
        "TFJS_MODEL_PATH = 'tfjs_model'\n",
        "\n",
        "# 1. Ekspor ke format SavedModel\n",
        "print(f\"\\nMengekspor model inferensi ke '{SAVED_MODEL_PATH}'...\")\n",
        "inference_model.export(SAVED_MODEL_PATH)\n",
        "print(\"✓ Model SavedModel berhasil diekspor.\")\n",
        "\n",
        "# 2. Konversi ke format TF-Lite\n",
        "print(\"\\nMemulai konversi ke format TensorFlow Lite...\")\n",
        "converter = tf.lite.TFLiteConverter.from_saved_model(SAVED_MODEL_PATH)\n",
        "tflite_model = converter.convert()\n",
        "tflite_model_path = os.path.join(TFLITE_DIR, 'model.tflite')\n",
        "with open(tflite_model_path, 'wb') as f:\n",
        "    f.write(tflite_model)\n",
        "print(f\"✓ Model TF-Lite berhasil disimpan di: {tflite_model_path}\")\n",
        "\n",
        "# Membuat label.txt\n",
        "label_path = os.path.join(TFLITE_DIR, 'label.txt')\n",
        "with open(label_path, 'w') as f:\n",
        "    for class_name in class_names:\n",
        "        f.write(f\"{class_name}\\n\")\n",
        "print(f\"✓ File label.txt berhasil dibuat di: {label_path}\")\n",
        "\n",
        "# 3. Konversi ke format TFJS\n",
        "print(\"\\nMemulai konversi ke format TensorFlow.js...\")\n",
        "!tensorflowjs_converter --input_format=tf_saved_model {SAVED_MODEL_PATH} {TFJS_MODEL_PATH}\n",
        "print(f\"\\n✓ Proses konversi TFJS selesai. Periksa folder '{TFJS_MODEL_PATH}'.\")"
      ]
    },
    {
      "cell_type": "markdown",
      "metadata": {
        "id": "8DbfEwvvm5U4"
      },
      "source": [
        "## Inference (Optional)"
      ]
    },
    {
      "cell_type": "code",
      "execution_count": 12,
      "metadata": {
        "colab": {
          "base_uri": "https://localhost:8080/"
        },
        "id": "ue5esMSSm8GQ",
        "outputId": "348e9b70-944c-46f2-ed6c-a24a6a8ad563"
      },
      "outputs": [
        {
          "name": "stdout",
          "output_type": "stream",
          "text": [
            "\n",
            "Performing inference test...\n",
            "✓ SavedModel (no augmentation) loaded as TFSMLayer successfully for inference.\n",
            "Testing inference on a random image from class: 'elefante'\n",
            "Image path: /content/dataset_split/test/elefante/OIP-pyIIoviU1TDqzyxIoZ5wVwHaFv.jpeg\n",
            "\u001b[1m1/1\u001b[0m \u001b[32m━━━━━━━━━━━━━━━━━━━━\u001b[0m\u001b[37m\u001b[0m \u001b[1m8s\u001b[0m 8s/step\n",
            "\n",
            "Prediction:\n",
            "  Predicted class: elefante\n",
            "  Confidence: 99.85%\n",
            "  Actual class: elefante\n"
          ]
        }
      ],
      "source": [
        "print(\"\\nPerforming inference test...\")\n",
        "\n",
        "SAVED_MODEL_PATH_FOR_INFERENCE = 'saved_model'\n",
        "\n",
        "try:\n",
        "    loaded_model_layer = tf.keras.layers.TFSMLayer(SAVED_MODEL_PATH_FOR_INFERENCE, call_endpoint='serving_default')\n",
        "\n",
        "    inference_input = Input(shape=(IMG_WIDTH, IMG_HEIGHT, 3))\n",
        "\n",
        "    inference_output = loaded_model_layer(inference_input)\n",
        "\n",
        "    loaded_model = Model(inputs=inference_input, outputs=inference_output)\n",
        "\n",
        "    print(\"✓ SavedModel (no augmentation) loaded as TFSMLayer successfully for inference.\")\n",
        "\n",
        "except Exception as e:\n",
        "    print(f\"Error loading SavedModel (no augmentation) as TFSMLayer: {e}\")\n",
        "    sys.exit(\"Failed to load the SavedModel for inference.\")\n",
        "\n",
        "# Fungsi untuk memuat dan memproses gambar\n",
        "def load_and_preprocess_image(img_path):\n",
        "    img = tf.keras.utils.load_img(img_path, target_size=(IMG_WIDTH, IMG_HEIGHT))\n",
        "    img_array = tf.keras.utils.img_to_array(img)\n",
        "    img_array = np.expand_dims(img_array, axis=0)\n",
        "    # HAPUS BARIS INI: img_array /= 255.0  # Normalisasi\n",
        "    return img_array\n",
        "\n",
        "# Pilih kelas acak dan gambar acak dari data tes\n",
        "random_class = random.choice(class_names)\n",
        "random_class_path = os.path.join(test_dir, random_class)\n",
        "random_image_name = random.choice(os.listdir(random_class_path))\n",
        "test_image_path = os.path.join(random_class_path, random_image_name)\n",
        "\n",
        "print(f\"Testing inference on a random image from class: '{random_class}'\")\n",
        "print(f\"Image path: {test_image_path}\")\n",
        "\n",
        "# Process image and make prediction using the loaded model\n",
        "processed_img = load_and_preprocess_image(test_image_path)\n",
        "prediction_output = loaded_model.predict(processed_img)\n",
        "\n",
        "# The output of TFSMLayer is a dictionary. Access the prediction tensor.\n",
        "# The key is typically 'output_0' for a single output model.\n",
        "if isinstance(prediction_output, dict) and 'output_0' in prediction_output:\n",
        "    prediction = prediction_output['output_0']\n",
        "elif isinstance(prediction_output, tf.Tensor):\n",
        "     prediction = prediction_output\n",
        "else:\n",
        "    print(f\"Unexpected prediction output format: {type(prediction_output)}\")\n",
        "    print(f\"Output keys: {prediction_output.keys() if isinstance(prediction_output, dict) else 'N/A'}\")\n",
        "    sys.exit(\"Could not extract prediction tensor from model output.\")\n",
        "\n",
        "\n",
        "predicted_class_index = np.argmax(prediction)\n",
        "predicted_class_name = class_names[predicted_class_index]\n",
        "confidence = np.max(prediction) * 100\n",
        "\n",
        "print(f\"\\nPrediction:\")\n",
        "print(f\"  Predicted class: {predicted_class_name}\")\n",
        "print(f\"  Confidence: {confidence:.2f}%\")\n",
        "print(f\"  Actual class: {random_class}\")"
      ]
    },
    {
      "cell_type": "code",
      "execution_count": 13,
      "metadata": {
        "colab": {
          "base_uri": "https://localhost:8080/"
        },
        "id": "dqEFL2d5yrzF",
        "outputId": "ca192cbe-52a6-45bb-e34c-6d394e717202"
      },
      "outputs": [
        {
          "name": "stdout",
          "output_type": "stream",
          "text": [
            "\n",
            "======================================================================\n",
            "TRAINING COMPLETED SUCCESSFULLY!\n",
            "======================================================================\n",
            "Total parameters: 4,923,629\n",
            "Final test accuracy: 96.57%\n",
            "Device used: /GPU:0\n",
            "\n",
            "Model saved in:\n",
            "- saved_model/model (SavedModel format)\n",
            "- tflite/model.tflite (TensorFlow Lite)\n",
            "- tfjs_model/ (TensorFlow.js)\n"
          ]
        }
      ],
      "source": [
        "print(\"\\n\" + \"=\"*70)\n",
        "print(\"TRAINING COMPLETED SUCCESSFULLY!\")\n",
        "print(\"=\"*70)\n",
        "print(f\"Total parameters: {model.count_params():,}\")\n",
        "\n",
        "print(f\"Final test accuracy: {test_acc*100:.2f}%\")\n",
        "print(f\"Device used: {device}\")\n",
        "print(\"\\nModel saved in:\")\n",
        "print(\"- saved_model/model (SavedModel format)\")\n",
        "print(\"- tflite/model.tflite (TensorFlow Lite)\")\n",
        "print(\"- tfjs_model/ (TensorFlow.js)\")"
      ]
    }
  ],
  "metadata": {
    "accelerator": "GPU",
    "colab": {
      "gpuType": "T4",
      "provenance": []
    },
    "kernelspec": {
      "display_name": "Python 3",
      "name": "python3"
    },
    "language_info": {
      "codemirror_mode": {
        "name": "ipython",
        "version": 3
      },
      "file_extension": ".py",
      "mimetype": "text/x-python",
      "name": "python",
      "nbconvert_exporter": "python",
      "pygments_lexer": "ipython3",
      "version": "3.11.13"
    }
  },
  "nbformat": 4,
  "nbformat_minor": 0
}
